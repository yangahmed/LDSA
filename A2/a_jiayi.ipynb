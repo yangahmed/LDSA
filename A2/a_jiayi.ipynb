{
 "cells": [
  {
   "cell_type": "code",
   "execution_count": 1,
   "metadata": {},
   "outputs": [],
   "source": [
    "from operator import add\n",
    "import re\n",
    "from collections import OrderedDict\n",
    "from operator import itemgetter \n",
    "import itertools\n",
    "from pyspark.sql import SparkSession\n",
    "\n",
    "spark_session = SparkSession\\\n",
    "       .builder\\\n",
    "       .master(\"spark://192.168.1.153:7077\") \\\n",
    "       .appName(\"jiayi_a\")\\\n",
    "       .config(\"spark.dynamicAllocation.enabled\", True)\\\n",
    "       .config(\"spark.shuffle.service.enabled\", True)\\\n",
    "       .config(\"spark.dynamicAllocation.executorIdleTimeout\",\"30s\")\\\n",
    "       .config(\"spark.executor.cores\",4)\\\n",
    "       .getOrCreate()\n",
    "        \n",
    "spark_context = spark_session.sparkContext"
   ]
  },
  {
   "cell_type": "code",
   "execution_count": 2,
   "metadata": {},
   "outputs": [
    {
     "name": "stdout",
     "output_type": "stream",
     "text": [
      "number of lines in English: 1862234\n",
      "number of lines in Swedish: 1862234\n",
      "same\n",
      "number of partitions: 5\n"
     ]
    }
   ],
   "source": [
    "# Question A.1\n",
    "\n",
    "# A.1.1\n",
    "rdd_en = spark_context.textFile('hdfs://192.168.1.153:9000/europarl/europarl-v7.sv-en.en').cache()\n",
    "lcount_en = rdd_en.count()\n",
    "print(\"number of lines in English:\",lcount_en)\n",
    "\n",
    "# A.1.2\n",
    "rdd_sv = spark_context.textFile('hdfs://192.168.1.153:9000/europarl/europarl-v7.sv-en.sv').cache()\n",
    "lcount_sv = rdd_sv.count()\n",
    "print(\"number of lines in Swedish:\",lcount_sv)\n",
    "\n",
    "# A.1.3\n",
    "if lcount_en - lcount_sv == 0:\n",
    "    print(\"same\")\n",
    "\n",
    "# A.1.4\n",
    "print(\"number of partitions:\", rdd_en.getNumPartitions()+rdd_sv.getNumPartitions())"
   ]
  },
  {
   "cell_type": "code",
   "execution_count": 3,
   "metadata": {},
   "outputs": [
    {
     "name": "stdout",
     "output_type": "stream",
     "text": [
      "[['resumption', 'of', 'the', 'session'], ['i', 'declare', 'resumed', 'the', 'session', 'of', 'the', 'european', 'parliament', 'adjourned', 'on', 'friday', '17', 'december', '1999,', 'and', 'i', 'would', 'like', 'once', 'again', 'to', 'wish', 'you', 'a', 'happy', 'new', 'year', 'in', 'the', 'hope', 'that', 'you', 'enjoyed', 'a', 'pleasant', 'festive', 'period.'], ['although,', 'as', 'you', 'will', 'have', 'seen,', 'the', 'dreaded', \"'millennium\", \"bug'\", 'failed', 'to', 'materialise,', 'still', 'the', 'people', 'in', 'a', 'number', 'of', 'countries', 'suffered', 'a', 'series', 'of', 'natural', 'disasters', 'that', 'truly', 'were', 'dreadful.'], ['you', 'have', 'requested', 'a', 'debate', 'on', 'this', 'subject', 'in', 'the', 'course', 'of', 'the', 'next', 'few', 'days,', 'during', 'this', 'part-session.'], ['in', 'the', 'meantime,', 'i', 'should', 'like', 'to', 'observe', 'a', \"minute'\", 's', 'silence,', 'as', 'a', 'number', 'of', 'members', 'have', 'requested,', 'on', 'behalf', 'of', 'all', 'the', 'victims', 'concerned,', 'particularly', 'those', 'of', 'the', 'terrible', 'storms,', 'in', 'the', 'various', 'countries', 'of', 'the', 'european', 'union.'], ['please', 'rise,', 'then,', 'for', 'this', \"minute'\", 's', 'silence.'], ['(the', 'house', 'rose', 'and', 'observed', 'a', \"minute'\", 's', 'silence)'], ['madam', 'president,', 'on', 'a', 'point', 'of', 'order.'], ['you', 'will', 'be', 'aware', 'from', 'the', 'press', 'and', 'television', 'that', 'there', 'have', 'been', 'a', 'number', 'of', 'bomb', 'explosions', 'and', 'killings', 'in', 'sri', 'lanka.'], ['one', 'of', 'the', 'people', 'assassinated', 'very', 'recently', 'in', 'sri', 'lanka', 'was', 'mr', 'kumar', 'ponnambalam,', 'who', 'had', 'visited', 'the', 'european', 'parliament', 'just', 'a', 'few', 'months', 'ago.']]\n",
      "[['återupptagande', 'av', 'sessionen'], ['jag', 'förklarar', 'europaparlamentets', 'session', 'återupptagen', 'efter', 'avbrottet', 'den', '17', 'december.', 'jag', 'vill', 'på', 'nytt', 'önska', 'er', 'ett', 'gott', 'nytt', 'år', 'och', 'jag', 'hoppas', 'att', 'ni', 'haft', 'en', 'trevlig', 'semester.'], ['som', 'ni', 'kunnat', 'konstatera', 'ägde', '\"den', 'stora', 'år', '2000-buggen\"', 'aldrig', 'rum.', 'däremot', 'har', 'invånarna', 'i', 'ett', 'antal', 'av', 'våra', 'medlemsländer', 'drabbats', 'av', 'naturkatastrofer', 'som', 'verkligen', 'varit', 'förskräckliga.'], ['ni', 'har', 'begärt', 'en', 'debatt', 'i', 'ämnet', 'under', 'sammanträdesperiodens', 'kommande', 'dagar.'], ['till', 'dess', 'vill', 'jag', 'att', 'vi,', 'som', 'ett', 'antal', 'kolleger', 'begärt,', 'håller', 'en', 'tyst', 'minut', 'för', 'offren', 'för', 'bl.a.', 'stormarna', 'i', 'de', 'länder', 'i', 'europeiska', 'unionen', 'som', 'drabbats.'], ['jag', 'ber', 'er', 'resa', 'er', 'för', 'en', 'tyst', 'minut.'], ['(parlamentet', 'höll', 'en', 'tyst', 'minut.)'], ['fru', 'talman!', 'det', 'gäller', 'en', 'ordningsfråga.'], ['ni', 'känner', 'till', 'från', 'media', 'att', 'det', 'skett', 'en', 'rad', 'bombexplosioner', 'och', 'mord', 'i', 'sri', 'lanka.'], ['en', 'av', 'de', 'personer', 'som', 'mycket', 'nyligen', 'mördades', 'i', 'sri', 'lanka', 'var', 'kumar', 'ponnambalam,', 'som', 'besökte', 'europaparlamentet', 'för', 'bara', 'några', 'månader', 'sedan.']]\n",
      "same\n"
     ]
    }
   ],
   "source": [
    "# Question A.2\n",
    "\n",
    "def preprocess(rdd):return rdd.map(lambda line: line.lower()).map(lambda words: words.split(' '))\n",
    "\n",
    "# A.2.1\n",
    "rdd_en = preprocess(rdd_en)\n",
    "rdd_sv = preprocess(rdd_sv)\n",
    "\n",
    "#A.2.2\n",
    "print(rdd_en.take(10))\n",
    "print(rdd_sv.take(10))\n",
    "\n",
    "#A.2.3\n",
    "if rdd_en.count()-rdd_sv.count() == 0:\n",
    "    print(\"same\")"
   ]
  },
  {
   "cell_type": "code",
   "execution_count": 4,
   "metadata": {},
   "outputs": [
    {
     "name": "stdout",
     "output_type": "stream",
     "text": [
      "[('the', 3498452), ('of', 1659758), ('to', 1539760), ('and', 1288402), ('in', 1085994), ('that', 797519), ('a', 773522), ('is', 758050), ('for', 534242), ('we', 522851)]\n",
      "[('att', 1706293), ('och', 1344830), ('i', 1050774), ('det', 924868), ('som', 913276), ('för', 908680), ('av', 738068), ('är', 694381), ('en', 620310), ('vi', 539797)]\n"
     ]
    }
   ],
   "source": [
    "# Question A.3\n",
    "\n",
    "# A.3.1\n",
    "word_en = rdd_en.flatMap(lambda x: x).map(lambda w: w.strip()).map(lambda w:(w,1)).reduceByKey(add).takeOrdered(10, key=lambda x: -x[1])\n",
    "word_sv = rdd_sv.flatMap(lambda x: x).map(lambda w: w.strip()).map(lambda w:(w,1)).reduceByKey(add).takeOrdered(10, key=lambda x: -x[1])\n",
    "\n",
    "print(word_en)\n",
    "print(word_sv)"
   ]
  },
  {
   "cell_type": "code",
   "execution_count": 4,
   "metadata": {},
   "outputs": [
    {
     "name": "stdout",
     "output_type": "stream",
     "text": [
      "[(('is', 'är'), 19561), (('we', 'vi'), 15616), (('i', 'jag'), 15265), (('and', 'och'), 15119), (('in', 'i'), 8768), (('a', 'en'), 8676), (('it', 'det'), 8506), (('to', 'att'), 7691), (('this', 'detta'), 7645), (('that', 'att'), 6775), (('not', 'inte'), 6748), (('the', 'den'), 5915), (('of', 'av'), 5744), (('a', 'ett'), 5384), (('for', 'för'), 5289), (('have', 'har'), 5004), (('the', 'det'), 4871), (('that', 'det'), 4588), (('the', 'de'), 4148), (('are', 'är'), 3914)]\n"
     ]
    }
   ],
   "source": [
    "# Question A.4\n",
    "\n",
    "en_1 = rdd_en.zipWithIndex()\n",
    "sv_1 = rdd_sv.zipWithIndex()\n",
    "\n",
    "en_2 = en_1.map(lambda x: (x[1], x[0]))\n",
    "sv_2 = sv_1.map(lambda x: (x[1], x[0]))\n",
    "\n",
    "en_sv_3 = en_2.join(sv_2)\n",
    "\n",
    "en_sv_4 = en_sv_3.filter(lambda x: [''] not in x[1])\n",
    "\n",
    "en_sv_5 = en_sv_4.filter(lambda x: len(x[1][0])<20 and len(x[1][1])<20)  # leave sentences with under 20 words\n",
    "\n",
    "en_sv_6 = en_sv_5.filter(lambda x: len(x[1][0])==len(x[1][1]))\n",
    "\n",
    "en_sv_7 = en_sv_6.flatMap(lambda x: list(zip(x[1][0],x[1][1])))\n",
    "\n",
    "en_sv_8 = en_sv_7.map(lambda w:(w,1)).reduceByKey(add)\n",
    "\n",
    "# step 9\n",
    "print(en_sv_8.takeOrdered(20, key=lambda x: -x[1]))"
   ]
  }
 ],
 "metadata": {
  "kernelspec": {
   "display_name": "Python 3",
   "language": "python",
   "name": "python3"
  },
  "language_info": {
   "codemirror_mode": {
    "name": "ipython",
    "version": 3
   },
   "file_extension": ".py",
   "mimetype": "text/x-python",
   "name": "python",
   "nbconvert_exporter": "python",
   "pygments_lexer": "ipython3",
   "version": "3.6.7"
  }
 },
 "nbformat": 4,
 "nbformat_minor": 2
}
